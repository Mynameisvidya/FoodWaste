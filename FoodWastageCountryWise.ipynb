{
 "cells": [
  {
   "cell_type": "code",
   "execution_count": null,
   "metadata": {
    "colab": {
     "base_uri": "https://localhost:8080/"
    },
    "collapsed": true,
    "id": "tN2VfKcCY8tZ",
    "outputId": "9d96dfc9-a0c9-4009-d1a7-1f6f2f44cfac"
   },
   "outputs": [],
   "source": [
    "import pandas as pd\n",
    "import numpy as np\n",
    "import matplotlib.pyplot as plt\n",
    "import seaborn as sns\n",
    "\n",
    "file_path = '/content/foodWatageData.csv'\n",
    "data = pd.read_csv(file_path)\n",
    "print(data.info())\n",
    "print(data.head())\n"
   ]
  },
  {
   "cell_type": "code",
   "execution_count": null,
   "metadata": {
    "colab": {
     "base_uri": "https://localhost:8080/"
    },
    "collapsed": true,
    "id": "2YiZ9l3vdtxU",
    "outputId": "1c62b8ec-3f73-4211-d854-969c8b95ad68"
   },
   "outputs": [],
   "source": [
    "def clean_dataset(df):\n",
    "    df.columns = df.columns.str.strip()\n",
    "\n",
    "    for col in df.select_dtypes(include=['object']).columns:\n",
    "        df[col] = df[col].str.strip()\n",
    "\n",
    "    df = df.drop_duplicates()\n",
    "    df = df.dropna()\n",
    "\n",
    "    for col in df.columns:\n",
    "        if df[col].dtype == 'object':\n",
    "            df[col] = df[col].astype(str)\n",
    "        elif df[col].dtype in ['int64', 'float64']:\n",
    "            df[col] = pd.to_numeric(df[col], errors='coerce')\n",
    "    for col in df.select_dtypes(include=['float64', 'int64']).columns:\n",
    "        df = df[df[col] >= 0]\n",
    "\n",
    "    df.reset_index(drop=True, inplace=True)\n",
    "\n",
    "    return df\n",
    "cleaned_data = clean_dataset(data)\n",
    "\n",
    "print(cleaned_data.info())\n",
    "print(cleaned_data.head())\n"
   ]
  },
  {
   "cell_type": "code",
   "execution_count": null,
   "metadata": {
    "colab": {
     "base_uri": "https://localhost:8080/"
    },
    "id": "TDfhoI5VcRMp",
    "outputId": "4668fa37-7690-44a9-d074-00b4218840aa"
   },
   "outputs": [],
   "source": [
    "cleaned_data.to_csv('cleaned_food_waste.csv', index=False)\n",
    "print(f\"Cleaned dataset shape: {cleaned_data.shape}\")\n"
   ]
  },
  {
   "cell_type": "code",
   "execution_count": null,
   "metadata": {
    "colab": {
     "base_uri": "https://localhost:8080/",
     "height": 472
    },
    "collapsed": true,
    "id": "fPXs9y0lZYnZ",
    "outputId": "566c6ed1-6c80-4e46-ea7e-fa3c11cebc05"
   },
   "outputs": [],
   "source": [
    "import seaborn as sns\n",
    "import matplotlib.pyplot as plt\n",
    "\n",
    "cleaned_data['Food_Waste'] = cleaned_data['Household estimate (tonnes/year)'] + \\\n",
    "                             cleaned_data['Retail estimate (tonnes/year)'] + \\\n",
    "                             cleaned_data['Food service estimate (tonnes/year)']\n",
    "\n",
    "sns.histplot(cleaned_data['Food_Waste'], kde=True, bins=30, color='blue')\n",
    "plt.title('Distribution of Food Waste')\n",
    "plt.xlabel('Food Waste (tons or kilograms)')\n",
    "plt.ylabel('Frequency')\n",
    "plt.show()"
   ]
  },
  {
   "cell_type": "code",
   "execution_count": null,
   "metadata": {
    "colab": {
     "base_uri": "https://localhost:8080/",
     "height": 799
    },
    "id": "MTQ3loJ_asjn",
    "outputId": "74dc100e-ac4d-425c-c394-f3c8a263e91e"
   },
   "outputs": [],
   "source": [
    "plt.figure(figsize=(10, 6))\n",
    "numeric_data = cleaned_data.select_dtypes(include=np.number)\n",
    "sns.heatmap(numeric_data.corr(), annot=True, cmap='coolwarm', fmt='.2f')\n",
    "plt.title('Correlation Heatmap')\n",
    "plt.show()"
   ]
  },
  {
   "cell_type": "code",
   "execution_count": null,
   "metadata": {
    "colab": {
     "base_uri": "https://localhost:8080/",
     "height": 607
    },
    "id": "3CbaM1YAdcYx",
    "outputId": "71e02294-b8d7-48b6-8b31-9f69b1098ed3"
   },
   "outputs": [],
   "source": [
    "top_countries = cleaned_data.groupby('Country')['Food_Waste'].sum().nlargest(10)\n",
    "\n",
    "plt.figure(figsize=(12, 6))\n",
    "bars = plt.bar(top_countries.index, top_countries.values, color='darkviolet', width=0.6)\n",
    "plt.title('Top 10 Countries by Food Waste')\n",
    "plt.xlabel('Country')\n",
    "plt.ylabel('Total Food Waste')\n",
    "plt.xticks(rotation=45, ha='right')\n",
    "plt.tight_layout()\n",
    "plt.show()"
   ]
  },
  {
   "cell_type": "code",
   "execution_count": null,
   "metadata": {
    "colab": {
     "base_uri": "https://localhost:8080/",
     "height": 698
    },
    "id": "XkT2_EKnc9mp",
    "outputId": "5c946eff-dfdc-41d2-de79-518eaf381f40"
   },
   "outputs": [],
   "source": [
    "top_countries = cleaned_data[['Country', 'combined figures (kg/capita/year)']].sort_values(by='combined figures (kg/capita/year)', ascending=False).head(10)\n",
    "\n",
    "plt.figure(figsize=(12, 6))\n",
    "sns.barplot(x='Country', y='combined figures (kg/capita/year)', data=top_countries, palette='viridis')\n",
    "plt.title('Top 10 Countries by Food Waste (kg/capita/year)')\n",
    "plt.xlabel('Country')\n",
    "plt.ylabel('Food Waste (kg/capita/year)')\n",
    "plt.xticks(rotation=45, ha='right')\n",
    "plt.tight_layout()\n",
    "plt.show()\n"
   ]
  },
  {
   "cell_type": "code",
   "execution_count": null,
   "metadata": {
    "colab": {
     "base_uri": "https://localhost:8080/",
     "height": 607
    },
    "id": "bdk218v2dOzy",
    "outputId": "e4c09d22-42bb-4d44-e19e-6330fad13de8"
   },
   "outputs": [],
   "source": [
    "region_waste = cleaned_data.groupby('Region')['combined figures (kg/capita/year)'].sum().sort_values(ascending=False)\n",
    "\n",
    "plt.figure(figsize=(12, 6))\n",
    "region_waste.plot(kind='bar', color='orange')\n",
    "plt.title('Food Waste by Region (kg/capita/year)')\n",
    "plt.xlabel('Region')\n",
    "plt.ylabel('Food Waste (kg/capita/year)')\n",
    "plt.xticks(rotation=45, ha='right')\n",
    "plt.tight_layout()\n",
    "plt.show()\n"
   ]
  },
  {
   "cell_type": "code",
   "execution_count": null,
   "metadata": {
    "colab": {
     "base_uri": "https://localhost:8080/"
    },
    "id": "EVj5uranjqE-",
    "outputId": "95dce302-f047-4310-bf97-1915ec0c79f3"
   },
   "outputs": [],
   "source": [
    "from sklearn.model_selection import train_test_split\n",
    "from sklearn.linear_model import LinearRegression\n",
    "from sklearn.metrics import mean_squared_error\n",
    "\n",
    "cleaned_data = pd.get_dummies(cleaned_data, columns=['Region', 'Confidence in estimate'])\n",
    "\n",
    "X = cleaned_data.drop(columns=['Country', 'combined figures (kg/capita/year)', 'Source'])\n",
    "y = cleaned_data['combined figures (kg/capita/year)']\n",
    "\n",
    "X_train, X_test, y_train, y_test = train_test_split(X, y, test_size=0.2, random_state=42)\n",
    "\n",
    "model = LinearRegression()\n",
    "model.fit(X_train, y_train)\n",
    "\n",
    "y_pred = model.predict(X_test)\n",
    "\n",
    "mse = mean_squared_error(y_test, y_pred)\n",
    "print(f'Mean Squared Error: {mse}')\n"
   ]
  },
  {
   "cell_type": "code",
   "execution_count": 50,
   "metadata": {
    "id": "AKXt5NlQlb_8"
   },
   "outputs": [],
   "source": [
    "from sklearn.preprocessing import StandardScaler\n",
    "\n",
    "scaler = StandardScaler()\n",
    "X_train = scaler.fit_transform(X_train)\n",
    "X_test = scaler.transform(X_test)"
   ]
  },
  {
   "cell_type": "code",
   "execution_count": null,
   "metadata": {
    "colab": {
     "base_uri": "https://localhost:8080/"
    },
    "id": "5t1eOuYwlfqT",
    "outputId": "e2c90a03-fe2f-4927-9e91-226dca40fceb"
   },
   "outputs": [],
   "source": [
    "from sklearn.model_selection import cross_val_score\n",
    "\n",
    "scores = cross_val_score(model, X, y, cv=5, scoring='neg_mean_squared_error')\n",
    "print(f'Cross-Validation MSE: {-scores.mean()}')"
   ]
  },
  {
   "cell_type": "code",
   "execution_count": null,
   "metadata": {
    "colab": {
     "base_uri": "https://localhost:8080/"
    },
    "id": "ul8FZ7yRlpCX",
    "outputId": "7ff89082-97cc-4fbd-ba6f-6403394866d2"
   },
   "outputs": [],
   "source": [
    "from sklearn.metrics import r2_score\n",
    "\n",
    "r2 = r2_score(y_test, y_pred)\n",
    "print(f'R-squared: {r2}')"
   ]
  },
  {
   "cell_type": "code",
   "execution_count": null,
   "metadata": {
    "colab": {
     "base_uri": "https://localhost:8080/",
     "height": 472
    },
    "id": "aQD-65gOlsHs",
    "outputId": "b0790c0a-0931-4f78-94ef-89670dda0a84"
   },
   "outputs": [],
   "source": [
    "plt.scatter(y_test, y_pred)\n",
    "plt.xlabel('Actual Food Waste per Capita')\n",
    "plt.ylabel('Predicted Food Waste per Capita')\n",
    "plt.title('Actual vs. Predicted Values')\n",
    "plt.show()"
   ]
  },
  {
   "cell_type": "code",
   "execution_count": null,
   "metadata": {
    "colab": {
     "base_uri": "https://localhost:8080/"
    },
    "id": "nhZoDQQIlrzd",
    "outputId": "63f0319a-34a8-4f34-e9a1-81b3b2cc4919"
   },
   "outputs": [],
   "source": [
    "data['Total Waste'] = data['Household estimate (tonnes/year)'] + \\\n",
    "                      data['Retail estimate (tonnes/year)'] + \\\n",
    "                      data['Food service estimate (tonnes/year)'] + \\\n",
    "                      0\n",
    "reduction_factor = 0.1\n",
    "reduced_total_waste = data['Total Waste'] * (1 - reduction_factor)\n",
    "total_reduced_waste = reduced_total_waste.sum()\n",
    "\n",
    "print(f\"\\nIf food waste could be reduced by 10%, the total reduction in waste would be: {total_reduced_waste:.2f} tons\")"
   ]
  },
  {
   "cell_type": "code",
   "execution_count": null,
   "metadata": {
    "colab": {
     "base_uri": "https://localhost:8080/"
    },
    "id": "yqiPe44nmEDW",
    "outputId": "bb9bc17e-ca51-4216-dc4b-e25c86a3a0c5"
   },
   "outputs": [],
   "source": [
    "print(\"\\nConclusion:\")\n",
    "print(\"Based on our analysis, the most impactful source for reducing food waste is identified.\")\n",
    "print(\"Recommendations include targeted programs, technological solutions, and community awareness campaigns.\")\n",
    "print(\"Predictive modeling indicates that by implementing strategies to reduce food waste by 10%, significant amounts of waste can be avoided.\")\n"
   ]
  }
 ],
 "metadata": {
  "colab": {
   "provenance": []
  },
  "kernelspec": {
   "display_name": "Python 3",
   "name": "python3"
  },
  "language_info": {
   "name": "python"
  }
 },
 "nbformat": 4,
 "nbformat_minor": 0
}
